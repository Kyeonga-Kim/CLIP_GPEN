{
 "cells": [
  {
   "cell_type": "code",
   "execution_count": 9,
   "metadata": {},
   "outputs": [
    {
     "name": "stdout",
     "output_type": "stream",
     "text": [
      "438373\n"
     ]
    },
    {
     "name": "stderr",
     "output_type": "stream",
     "text": [
      "move:   0%|          | 0/438373 [00:24<?, ?video/s]\n",
      "move:   0%|          | 0/438373 [00:58<?, ?video/s]"
     ]
    },
    {
     "name": "stdout",
     "output_type": "stream",
     "text": [
      "All processes done.\n"
     ]
    },
    {
     "name": "stderr",
     "output_type": "stream",
     "text": [
      "\n"
     ]
    }
   ],
   "source": [
    "import os\n",
    "import os.path as osp\n",
    "import glob\n",
    "from tqdm import tqdm\n",
    "import mmcv\n",
    "\n",
    "video_paths = sorted(glob.glob('/data/jinsuyoo/TalkingHead-1KH/train/cropped_clips/*.mp4'))\n",
    "\n",
    "print(len(video_paths))\n",
    "\n",
    "pbar = tqdm(video_paths)\n",
    "\n",
    "for i, video_path in enumerate(pbar):\n",
    "    video_reader = mmcv.VideoReader(video_path)\n",
    "    num_frames, fps, h, w = len(video_reader), video_reader.fps, video_reader.height, video_reader.width\n",
    "    #print(num_frames, fps, h, w)\n",
    "    if not (num_frames > 0 and h >= 512 and w >= 512):\n",
    "        os.system(f'mv {video_path} /data/jinsuyoo/TalkingHead-1KH/train/cropped_clips_noframe-or-h-or-w-is-less-than-512')\n",
    "    "
   ]
  }
 ],
 "metadata": {
  "interpreter": {
   "hash": "56a3729746d31e22e587350a9406b9a3d46fc2cbf9e52cf6a47757d697db936a"
  },
  "kernelspec": {
   "display_name": "Python 3.9.7 ('vsr-lightning': conda)",
   "language": "python",
   "name": "python3"
  },
  "language_info": {
   "codemirror_mode": {
    "name": "ipython",
    "version": 3
   },
   "file_extension": ".py",
   "mimetype": "text/x-python",
   "name": "python",
   "nbconvert_exporter": "python",
   "pygments_lexer": "ipython3",
   "version": "3.9.7"
  },
  "orig_nbformat": 4
 },
 "nbformat": 4,
 "nbformat_minor": 2
}
