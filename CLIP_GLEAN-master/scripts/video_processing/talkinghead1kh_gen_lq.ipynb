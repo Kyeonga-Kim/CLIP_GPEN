{
 "cells": [
  {
   "cell_type": "code",
   "execution_count": 2,
   "metadata": {},
   "outputs": [],
   "source": [
    "import os\n",
    "import os.path as osp\n",
    "import glob\n",
    "\n",
    "import cv2\n",
    "import numpy as np\n",
    "from PIL import Image\n",
    "import sys\n",
    "sys.path.append('/home/jinsuyoo/ResizeRight')\n",
    "from resize_right import resize\n",
    "\n",
    "\n",
    "save_path = '../../datasets/TalkingHead-1KH_val/LQ_16'\n",
    "#os.makedirs(osp.join(save_path, 'GT'))\n",
    "#os.makedirs(osp.join(save_path, 'LQ'))\n",
    "\n",
    "gt_paths = sorted(\n",
    "    glob.glob(osp.join('../../datasets/TalkingHead-1KH_val', 'GT', '*', '*')))\n",
    "\n",
    "for gt_path in gt_paths:\n",
    "    filename, _ = osp.splitext(osp.basename(gt_path))\n",
    "    #print(filename)\n",
    "    clipname = gt_path.split('/')[-2]\n",
    "    #print(clipname)\n",
    "    #print(osp.join(save_path, clipname, f'{filename}.png'))\n",
    "    os.makedirs(osp.join(save_path, clipname), exist_ok=True)\n",
    "\n",
    "\n",
    "    gt = np.array(Image.open(gt_path).convert('RGB')) / 255\n",
    "\n",
    "    lq = np.clip(resize(gt, out_shape=(16, 16)), 0, 1)\n",
    "    lq = (lq * 255).round().astype(np.uint8)\n",
    "    lq = lq[..., ::-1]\n",
    "\n",
    "    cv2.imwrite(osp.join(save_path, clipname, f'{filename}.png'), lq)"
   ]
  }
 ],
 "metadata": {
  "interpreter": {
   "hash": "56a3729746d31e22e587350a9406b9a3d46fc2cbf9e52cf6a47757d697db936a"
  },
  "kernelspec": {
   "display_name": "Python 3.9.7 ('vsr-lightning': conda)",
   "language": "python",
   "name": "python3"
  },
  "language_info": {
   "codemirror_mode": {
    "name": "ipython",
    "version": 3
   },
   "file_extension": ".py",
   "mimetype": "text/x-python",
   "name": "python",
   "nbconvert_exporter": "python",
   "pygments_lexer": "ipython3",
   "version": "3.9.7"
  },
  "orig_nbformat": 4
 },
 "nbformat": 4,
 "nbformat_minor": 2
}
