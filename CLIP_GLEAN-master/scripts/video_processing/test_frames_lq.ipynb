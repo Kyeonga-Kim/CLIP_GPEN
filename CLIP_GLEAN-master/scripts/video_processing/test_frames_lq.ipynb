{
 "cells": [
  {
   "cell_type": "code",
   "execution_count": 8,
   "metadata": {},
   "outputs": [
    {
     "name": "stderr",
     "output_type": "stream",
     "text": [
      "2022-03-24 19:27:35,195 - mmedit - INFO - Load pretrained model from http://download.openmmlab.com/mmgen/stylegan2/official_weights/stylegan2-ffhq-config-f-official_20210327_171224-bce9310c.pth\n"
     ]
    },
    {
     "name": "stdout",
     "output_type": "stream",
     "text": [
      "load checkpoint from http path: http://download.openmmlab.com/mmgen/stylegan2/official_weights/stylegan2-ffhq-config-f-official_20210327_171224-bce9310c.pth\n",
      "load checkpoint from http path: http://download.openmmlab.com/mmgen/stylegan2/official_weights/stylegan2-ffhq-config-f-official_20210327_171224-bce9310c.pth\n"
     ]
    },
    {
     "name": "stderr",
     "output_type": "stream",
     "text": [
      "2022-03-24 19:27:37,274 - mmedit - INFO - Load pretrained model from http://download.openmmlab.com/mmgen/stylegan2/official_weights/stylegan2-ffhq-config-f-official_20210327_171224-bce9310c.pth\n",
      "2022-03-24 19:27:39,030 - mmedit - INFO - load checkpoint from torchvision path: torchvision://vgg16\n"
     ]
    },
    {
     "name": "stdout",
     "output_type": "stream",
     "text": [
      "load checkpoint from local path: ../pretrained_model/glean_ffhq_16x_20210527-61a3afad.pth\n"
     ]
    },
    {
     "name": "stderr",
     "output_type": "stream",
     "text": [
      "2022-03-24 19:27:40,433 - mmgen - INFO - Switch to evaluation style mode: single\n"
     ]
    }
   ],
   "source": [
    "import argparse\n",
    "import os.path as osp\n",
    "import glob\n",
    "\n",
    "import numpy as np\n",
    "import mmcv\n",
    "import torch\n",
    "import cv2\n",
    "from mmedit.apis import init_model, restoration_inference\n",
    "from mmedit.core import tensor2img\n",
    "from tqdm import tqdm\n",
    "import matplotlib.pyplot as plt\n",
    "%matplotlib inline\n",
    "from PIL import Image\n",
    "import os\n",
    "\n",
    "config = '../configs/restorers/glean/glean_ffhq_16x.py'\n",
    "checkpoint = '../pretrained_model/glean_ffhq_16x_20210527-61a3afad.pth'\n",
    "\n",
    "video_path = '/home/jinsuyoo/mmediting/jinsu/obama/lq'\n",
    "save_path = 'test_glean_obama'\n",
    "\n",
    "#video_path = '/home/jinsuyoo/mmediting/jinsu/Zac_Efron/1.6/c_Qv_3Ya3Bg'\n",
    "#save_path = 'test_glean_zac'\n",
    "\n",
    "fps = 30\n",
    "\n",
    "device = 0\n",
    "\n",
    "lq_path = sorted(glob.glob(video_path + '/*.png'))\n",
    "\n",
    "model = init_model(config, checkpoint, device=torch.device('cuda', device))\n",
    "\n",
    "os.makedirs(save_path, exist_ok=True)\n",
    "\n",
    "# save lq mp4\n",
    "lqs = []\n",
    "for img_path in lq_path:\n",
    "    img = Image.open(img_path).convert('RGB')\n",
    "    img = np.array(img)\n",
    "    img = np.flip(img, axis=2)\n",
    "    lqs.append(img)\n",
    "lqs = np.stack(lqs, axis=0)\n",
    "fourcc = cv2.VideoWriter_fourcc(*'mp4v')\n",
    "video_writer = cv2.VideoWriter(osp.join(save_path, 'video_lq.mp4'), fourcc, fps, (64,64))\n",
    "for i in range(0, lqs.shape[0]):\n",
    "    img = lqs[i]\n",
    "    video_writer.write(img)\n",
    "video_writer.release()\n",
    "\n",
    "results = []\n",
    "for i, img_path in enumerate(lq_path):\n",
    "    output = restoration_inference(model, img_path)\n",
    "    output = tensor2img(output)\n",
    "    mmcv.imwrite(output, osp.join(save_path, f'{i:04}_glean.png'))\n",
    "    results.append(output)\n",
    "results = np.stack(results, axis=0)\n",
    "h, w= 1024, 1024 #results.shape[-2:]\n",
    "fourcc = cv2.VideoWriter_fourcc(*'mp4v')\n",
    "video_writer = cv2.VideoWriter(osp.join(save_path, 'video_glean.mp4'), fourcc, fps, (w, h))\n",
    "for i in range(0, results.shape[0]):\n",
    "    img = results[i]\n",
    "    video_writer.write(img)\n",
    "video_writer.release()\n",
    "\n"
   ]
  },
  {
   "cell_type": "code",
   "execution_count": null,
   "metadata": {},
   "outputs": [],
   "source": []
  }
 ],
 "metadata": {
  "interpreter": {
   "hash": "13d3e73ef95eec664f398331fa6d4b5ac9634a4c67fad039117a3c9fbb295495"
  },
  "kernelspec": {
   "display_name": "Python 3.8.12 ('mmedit': conda)",
   "language": "python",
   "name": "python3"
  },
  "language_info": {
   "codemirror_mode": {
    "name": "ipython",
    "version": 3
   },
   "file_extension": ".py",
   "mimetype": "text/x-python",
   "name": "python",
   "nbconvert_exporter": "python",
   "pygments_lexer": "ipython3",
   "version": "3.8.12"
  },
  "orig_nbformat": 4
 },
 "nbformat": 4,
 "nbformat_minor": 2
}
