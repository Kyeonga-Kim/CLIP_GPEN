{
 "cells": [
  {
   "cell_type": "code",
   "execution_count": null,
   "metadata": {},
   "outputs": [],
   "source": [
    "import os\n",
    "import os.path as osp\n",
    "import glob\n",
    "\n",
    "data_path = ''\n",
    "save_path = ''\n",
    "\n",
    "def get_video_paths(data_path):\n",
    "    vps = sorted(\n",
    "        glob.glob(osp.join(data_path, 'MEAD', 'M009', 'video', '*', '*', '*') + '/*.mp4'))\n",
    "    return vps \n",
    "\n",
    "\n",
    "def extract_frames(video_path, save_path, pid, angle, emo, lvl, gt_size=1024, scale_factor=16):\n",
    "    filename, extension = osp.splitext(osp.basename(video_path))\n",
    "\n",
    "    os.makedirs(osp.join(save_path, 'MEAD', pid, 'frames', angle, emo, lvl, filename, 'hq_raw'), exist_ok=True)\n",
    "    os.makedirs(osp.join(save_path, 'MEAD', pid, 'frames', angle, emo, lvl, filename, 'hq'), exist_ok=True)\n",
    "    os.makedirs(osp.join(save_path, 'MEAD', pid, 'frames', angle, emo, lvl, filename, 'lq'), exist_ok=True)\n",
    "\n",
    "    video_reader = mmcv.VideoReader(video_path)\n",
    "\n",
    "    for i, frame in enumerate(video_reader):\n",
    "        hq_raw = np.flip(frame, axis=2) / 255\n",
    "        h, w, _ = hq_raw.shape\n",
    "        hq = hq_raw[(h-gt_size)//2:(h-gt_size)//2 + gt_size, (w-gt_size)//2:(w-gt_size)//2 + gt_size, :]\n",
    "        \n",
    "        lq = np.clip(resize(hq, scale_factors=1/scale_factor), 0, 1)\n",
    "\n",
    "        hq_raw = Image.fromarray((hq_raw * 255).astype(np.uint8))\n",
    "        hq = Image.fromarray((hq * 255).astype(np.uint8))\n",
    "        lq = Image.fromarray((lq * 255).astype(np.uint8))\n",
    "\n",
    "        \n",
    "        hq_raw.save(osp.join(save_path, 'MEAD', pid, 'frames', angle, emo, lvl, filename, 'hq_raw', f'{i:03}.png'))\n",
    "        hq.save(osp.join(save_path, 'MEAD', pid, 'frames', angle, emo, lvl, filename, 'hq', f'{i:03}.png'))\n",
    "        lq.save(osp.join(save_path, 'MEAD', pid, 'frames', angle, emo, lvl, filename, 'lq', f'{i:03}.png'))\n",
    "\n",
    "\n",
    "video_paths = get_video_paths(data_path=data_path)\n",
    "for vp in video_paths:\n",
    "    pid, _, angle, emo, lvl, filename = osp.normpath(vp).split(osp.sep)[-6:]\n",
    "\n",
    "    if lvl == 'level_3' and filename == '001.mp4':\n",
    "        extract_frames(vp, save_path, pid, angle, emo, lvl)"
   ]
  }
 ],
 "metadata": {
  "language_info": {
   "name": "python"
  },
  "orig_nbformat": 4
 },
 "nbformat": 4,
 "nbformat_minor": 2
}
