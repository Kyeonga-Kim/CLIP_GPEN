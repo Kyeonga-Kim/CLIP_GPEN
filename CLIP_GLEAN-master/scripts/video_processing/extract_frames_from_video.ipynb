{
 "cells": [
  {
   "cell_type": "code",
   "execution_count": 1,
   "metadata": {},
   "outputs": [
    {
     "name": "stderr",
     "output_type": "stream",
     "text": [
      "/home/jinsuyoo/anaconda3/envs/vsr-lightning/lib/python3.9/site-packages/tqdm/auto.py:22: TqdmWarning: IProgress not found. Please update jupyter and ipywidgets. See https://ipywidgets.readthedocs.io/en/stable/user_install.html\n",
      "  from .autonotebook import tqdm as notebook_tqdm\n"
     ]
    },
    {
     "name": "stdout",
     "output_type": "stream",
     "text": [
      "1280 720 (1280, 720) 6919\n"
     ]
    }
   ],
   "source": [
    "import os\n",
    "import os.path as osp\n",
    "import numpy as np\n",
    "\n",
    "import mmcv\n",
    "from PIL import Image\n",
    "\n",
    "\n",
    "root_path = '../../datasets/'\n",
    "\n",
    "video_path = '/home/jinsuyoo/mmediting/jinsu/Focusing on the Economic Priorities for the Middle Class Nationwide-3vPdtajOJfw.mp4'\n",
    "video = mmcv.VideoReader(video_path)\n",
    "print(video.width, video.height, video.resolution, len(video))\n",
    "video = video[1000:1100]\n",
    "\n",
    "os.makedirs(osp.join(root_path, 'obama', 'hq_raw'), exist_ok=True)\n",
    "\n",
    "for i, frame in enumerate(video):\n",
    "    hq_raw = np.flip(frame, axis=2) / 255\n",
    "    hq_raw = Image.fromarray((hq_raw * 255).astype(np.uint8))\n",
    "    frame_idx = i + 1000\n",
    "    hq_raw.save(osp.join(root_path, 'obama', 'hq_raw', f'{frame_idx:04}.png'))"
   ]
  },
  {
   "cell_type": "code",
   "execution_count": 4,
   "metadata": {},
   "outputs": [],
   "source": [
    "import glob\n",
    "import dlib\n",
    "import cv2\n",
    "import os.path as osp\n",
    "import sys\n",
    "sys.path.append('/home/jinsuyoo/ResizeRight')\n",
    "from resize_right import resize\n",
    "import numpy as np\n",
    "\n",
    "lq_size = 32\n",
    "\n",
    "padding = 50\n",
    "\n",
    "\n",
    "detector = dlib.get_frontal_face_detector() \n",
    "#sp = dlib.shape_predictor(\"shape_predictor_5_face_landmarks.dat\") \n",
    "#facerec = dlib.face_recognition_model_v1(\"dlib_face_recognition_resnet_model_v1.dat\")\n",
    "\n",
    "img_path = sorted(glob.glob(osp.join(root_path, 'obama/hq_raw/*.png')))\n",
    "save_path = osp.join(root_path, 'obama', 'lq', f'{lq_size}x{lq_size}')\n",
    "os.makedirs(save_path, exist_ok=True)\n",
    "\n",
    "avg_top, avg_bottom, avg_left, avg_right = [], [] ,[] ,[]\n",
    "\n",
    "for ip in img_path:\n",
    "    img = dlib.load_rgb_image(ip)\n",
    "    dets = detector(img, 1)[0]\n",
    "    avg_top.append(dets.top())\n",
    "    avg_bottom.append(dets.bottom())\n",
    "    avg_left.append(dets.left())\n",
    "    avg_right.append(dets.right())\n",
    "avg_top = int(np.mean(np.array(avg_top)))\n",
    "avg_bottom = int(np.mean(np.array(avg_bottom)))\n",
    "avg_left = int(np.mean(np.array(avg_left)))\n",
    "avg_right = int(np.mean(np.array(avg_right)))\n",
    "\n",
    "start_img_path = img_path[0]\n",
    "start_img = dlib.load_rgb_image(start_img_path)\n",
    "#start_img = np.array(Image.open(start_img_path).convert('RGB')) / 255\n",
    "\n",
    "dets = detector(start_img, 1)[0]\n",
    "\n",
    "for i, ip in enumerate(img_path):\n",
    "    img = dlib.load_rgb_image(ip)\n",
    "    #img = np.array(Image.open(ip).convert('RGB')) / 255\n",
    "\n",
    "    crop = img[avg_top - padding:avg_bottom + padding, avg_left - padding:avg_right + padding]\n",
    "    crop = crop / 255\n",
    "    crop = np.clip(resize(crop, out_shape=(lq_size, lq_size)), 0, 1)\n",
    "    crop = (crop * 255).round().astype(np.uint8)\n",
    "    crop = crop[..., ::-1]\n",
    "\n",
    "    frame_idx = i + 1000 \n",
    "    cv2.imwrite(osp.join(save_path, f'{frame_idx:04}.png'), crop)"
   ]
  }
 ],
 "metadata": {
  "interpreter": {
   "hash": "56a3729746d31e22e587350a9406b9a3d46fc2cbf9e52cf6a47757d697db936a"
  },
  "kernelspec": {
   "display_name": "Python 3.9.7 ('vsr-lightning': conda)",
   "language": "python",
   "name": "python3"
  },
  "language_info": {
   "codemirror_mode": {
    "name": "ipython",
    "version": 3
   },
   "file_extension": ".py",
   "mimetype": "text/x-python",
   "name": "python",
   "nbconvert_exporter": "python",
   "pygments_lexer": "ipython3",
   "version": "3.9.7"
  },
  "orig_nbformat": 4
 },
 "nbformat": 4,
 "nbformat_minor": 2
}
