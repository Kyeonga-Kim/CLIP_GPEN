{
 "cells": [
  {
   "cell_type": "code",
   "execution_count": 3,
   "metadata": {},
   "outputs": [
    {
     "name": "stdout",
     "output_type": "stream",
     "text": [
      "[youtube] 3vPdtajOJfw: Downloading webpage\n",
      "[youtube] 3vPdtajOJfw: Downloading MPD manifest\n",
      "[download] Destination: Focusing on the Economic Priorities for the Middle Class Nationwide-3vPdtajOJfw.mp4\n",
      "[download] 100% of 31.52MiB in 09:5991KiB/s ETA 00:004\n"
     ]
    }
   ],
   "source": [
    "import youtube_dl\n",
    "import os\n",
    "\n",
    "ydl_opts={}\n",
    "with youtube_dl.YoutubeDL(ydl_opts) as ydl:\n",
    "    ydl.download(['https://www.youtube.com/watch?v=3vPdtajOJfw'])"
   ]
  },
  {
   "cell_type": "code",
   "execution_count": 7,
   "metadata": {},
   "outputs": [
    {
     "name": "stdout",
     "output_type": "stream",
     "text": [
      "1280 720 (1280, 720) 6919\n"
     ]
    }
   ],
   "source": [
    "import mmcv\n",
    "import numpy as np\n",
    "import os.path as osp\n",
    "from PIL import Image\n",
    "\n",
    "video_path = 'Focusing on the Economic Priorities for the Middle Class Nationwide-3vPdtajOJfw.mp4'\n",
    "video = mmcv.VideoReader(video_path)\n",
    "print(video.width, video.height, video.resolution, len(video))\n",
    "video = video[1000:1100]\n",
    "\n",
    "os.makedirs(osp.join('obama', 'hq_raw'), exist_ok=True)\n",
    "\n",
    "for i, frame in enumerate(video):\n",
    "    hq_raw = np.flip(frame, axis=2) / 255\n",
    "    hq_raw = Image.fromarray((hq_raw * 255).astype(np.uint8))\n",
    "    frame_idx = i + 1000\n",
    "    hq_raw.save(osp.join('obama', 'hq_raw', f'{frame_idx:04}.png'))\n"
   ]
  },
  {
   "cell_type": "code",
   "execution_count": 6,
   "metadata": {},
   "outputs": [
    {
     "name": "stdout",
     "output_type": "stream",
     "text": [
      "193 486 438 731\n"
     ]
    }
   ],
   "source": [
    "import glob\n",
    "import dlib\n",
    "import cv2\n",
    "import os.path as osp\n",
    "import sys\n",
    "sys.path.append('/home/jinsuyoo/ResizeRight')\n",
    "from resize_right import resize\n",
    "import numpy as np\n",
    "\n",
    "detector = dlib.get_frontal_face_detector() \n",
    "#sp = dlib.shape_predictor(\"shape_predictor_5_face_landmarks.dat\") \n",
    "#facerec = dlib.face_recognition_model_v1(\"dlib_face_recognition_resnet_model_v1.dat\")\n",
    "\n",
    "img_path = sorted(glob.glob('obama/hq_raw/*.png'))\n",
    "os.makedirs(osp.join('obama', 'lq'), exist_ok=True)\n",
    "\n",
    "'''\n",
    "for i, ip in enumerate(img_path):\n",
    "    img = dlib.load_rgb_image(ip)\n",
    "    dets = detector(img, 1)[0]\n",
    "    crop = img[dets.top():dets.bottom(), dets.left():dets.right()]\n",
    "    crop = np.clip(resize(crop, out_shape=(64,64)), 0, 255)\n",
    "    frame_idx = i + 1000 \n",
    "    crop = np.flip(crop, axis=2)\n",
    "    cv2.imwrite(osp.join('obama', 'lq', f'{frame_idx:04}.png'), crop)\n",
    "'''\n",
    "\n",
    "avg_top, avg_bottom, avg_left, avg_right = [], [] ,[] ,[]\n",
    "padding = 50\n",
    "\n",
    "\n",
    "for ip in img_path:\n",
    "    img = dlib.load_rgb_image(ip)\n",
    "    dets = detector(img, 1)[0]\n",
    "    avg_top.append(dets.top())\n",
    "    avg_bottom.append(dets.bottom())\n",
    "    avg_left.append(dets.left())\n",
    "    avg_right.append(dets.right())\n",
    "avg_top = int(np.mean(np.array(avg_top)))\n",
    "avg_bottom = int(np.mean(np.array(avg_bottom)))\n",
    "avg_left = int(np.mean(np.array(avg_left)))\n",
    "avg_right = int(np.mean(np.array(avg_right)))\n",
    "print(avg_top, avg_bottom, avg_left, avg_right)\n",
    "input()\n",
    "\n",
    "start_img_path = img_path[0]\n",
    "start_img = dlib.load_rgb_image(start_img_path)\n",
    "dets = detector(start_img, 1)[0]\n",
    "\n",
    "for i, ip in enumerate(img_path):\n",
    "    img = dlib.load_rgb_image(ip)\n",
    "    crop = img[avg_top-padding:avg_bottom+padding, avg_left-padding:avg_right+padding]\n",
    "    crop = np.clip(resize(crop, out_shape=(64,64)), 0, 255)\n",
    "    frame_idx = i + 1000 \n",
    "    crop = np.flip(crop, axis=2)\n",
    "    cv2.imwrite(osp.join('obama', 'lq', f'{frame_idx:04}.png'), crop)\n"
   ]
  }
 ],
 "metadata": {
  "interpreter": {
   "hash": "13d3e73ef95eec664f398331fa6d4b5ac9634a4c67fad039117a3c9fbb295495"
  },
  "kernelspec": {
   "display_name": "Python 3.8.12 ('mmedit': conda)",
   "language": "python",
   "name": "python3"
  },
  "language_info": {
   "codemirror_mode": {
    "name": "ipython",
    "version": 3
   },
   "file_extension": ".py",
   "mimetype": "text/x-python",
   "name": "python",
   "nbconvert_exporter": "python",
   "pygments_lexer": "ipython3",
   "version": "3.8.12"
  },
  "orig_nbformat": 4
 },
 "nbformat": 4,
 "nbformat_minor": 2
}
